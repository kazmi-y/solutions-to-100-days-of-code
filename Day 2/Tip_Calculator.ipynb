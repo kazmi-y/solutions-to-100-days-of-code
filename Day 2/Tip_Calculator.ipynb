{
  "nbformat": 4,
  "nbformat_minor": 0,
  "metadata": {
    "colab": {
      "provenance": [],
      "authorship_tag": "ABX9TyOzwhlM/rhckiB8uG5Fdmsa",
      "include_colab_link": true
    },
    "kernelspec": {
      "name": "python3",
      "display_name": "Python 3"
    },
    "language_info": {
      "name": "python"
    }
  },
  "cells": [
    {
      "cell_type": "markdown",
      "metadata": {
        "id": "view-in-github",
        "colab_type": "text"
      },
      "source": [
        "<a href=\"https://colab.research.google.com/github/kazmi-y/solutions-to-100-days-of-code/blob/main/Day%202/Tip_Calculator.ipynb\" target=\"_parent\"><img src=\"https://colab.research.google.com/assets/colab-badge.svg\" alt=\"Open In Colab\"/></a>"
      ]
    },
    {
      "cell_type": "code",
      "execution_count": 1,
      "metadata": {
        "id": "g-BpB80AoEKd"
      },
      "outputs": [],
      "source": [
        "bill = \"What was the total amount of bill?\""
      ]
    },
    {
      "cell_type": "code",
      "source": [
        "tip = \"What percentage of bill would you like to pay as tip: 5, 10, 15 or 20%?\""
      ],
      "metadata": {
        "id": "hl8EiXDVoYjV"
      },
      "execution_count": 2,
      "outputs": []
    },
    {
      "cell_type": "code",
      "source": [
        "people = \"How many people to split the bill?\""
      ],
      "metadata": {
        "id": "pLGVdZakolxT"
      },
      "execution_count": 3,
      "outputs": []
    },
    {
      "cell_type": "code",
      "source": [
        "Intro = \"Welcome to the Tip Calculator\""
      ],
      "metadata": {
        "id": "YdhKfpT7oqGI"
      },
      "execution_count": 4,
      "outputs": []
    },
    {
      "cell_type": "code",
      "source": [
        "print(Intro)"
      ],
      "metadata": {
        "colab": {
          "base_uri": "https://localhost:8080/"
        },
        "id": "WVct-O7go2BS",
        "outputId": "940a3b84-e1d5-4ffa-facd-670f6b9e66f9"
      },
      "execution_count": 5,
      "outputs": [
        {
          "output_type": "stream",
          "name": "stdout",
          "text": [
            "Welcome to the Tip Calculator\n"
          ]
        }
      ]
    },
    {
      "cell_type": "code",
      "source": [
        "print(bill)"
      ],
      "metadata": {
        "colab": {
          "base_uri": "https://localhost:8080/"
        },
        "id": "Yf4yOFU2o4aD",
        "outputId": "dbdb1001-7a9b-4e9b-f528-47174d29dd70"
      },
      "execution_count": 6,
      "outputs": [
        {
          "output_type": "stream",
          "name": "stdout",
          "text": [
            "What was the total amount of bill?\n"
          ]
        }
      ]
    },
    {
      "cell_type": "code",
      "source": [
        "input_bill = float(input(\"Please enter the total amount of bill: \"))"
      ],
      "metadata": {
        "colab": {
          "base_uri": "https://localhost:8080/"
        },
        "id": "aDG6OCI5o6x-",
        "outputId": "24a3a7b5-6ec8-4d78-8394-03c39af12d92"
      },
      "execution_count": 7,
      "outputs": [
        {
          "name": "stdout",
          "output_type": "stream",
          "text": [
            "Please enter the total amount of bill: 100\n"
          ]
        }
      ]
    },
    {
      "cell_type": "code",
      "source": [
        "print(tip)"
      ],
      "metadata": {
        "colab": {
          "base_uri": "https://localhost:8080/"
        },
        "id": "L5YLqaHVpCrC",
        "outputId": "af7daeb7-44d1-4381-a8e3-13ae7fdaed78"
      },
      "execution_count": 8,
      "outputs": [
        {
          "output_type": "stream",
          "name": "stdout",
          "text": [
            "What percentage of bill would you like to pay as tip: 5, 10, 15 or 20%?\n"
          ]
        }
      ]
    },
    {
      "cell_type": "code",
      "source": [
        "input_tip = float(input(\"Please enter the percentage of bill you would like to pay: \"))"
      ],
      "metadata": {
        "colab": {
          "base_uri": "https://localhost:8080/"
        },
        "id": "SU0DRRCqpGhy",
        "outputId": "9eb1cce6-302c-425f-f1f9-4c8df750b8d5"
      },
      "execution_count": 9,
      "outputs": [
        {
          "name": "stdout",
          "output_type": "stream",
          "text": [
            "Please enter the percentage of bill you would like to pay: 10\n"
          ]
        }
      ]
    },
    {
      "cell_type": "code",
      "source": [
        "print(people)"
      ],
      "metadata": {
        "colab": {
          "base_uri": "https://localhost:8080/"
        },
        "id": "eyQDxtPDpJGC",
        "outputId": "8716a910-2008-4a56-d2fe-3cac379f5591"
      },
      "execution_count": 10,
      "outputs": [
        {
          "output_type": "stream",
          "name": "stdout",
          "text": [
            "How many people to split the bill?\n"
          ]
        }
      ]
    },
    {
      "cell_type": "code",
      "source": [
        "input_people = int(input(\"Please enter the number of people to split the bill: \"))"
      ],
      "metadata": {
        "colab": {
          "base_uri": "https://localhost:8080/"
        },
        "id": "axx5nEg4pL0b",
        "outputId": "d6a94d2b-c879-4e8a-96a3-b1672d73eb5a"
      },
      "execution_count": 11,
      "outputs": [
        {
          "name": "stdout",
          "output_type": "stream",
          "text": [
            "Please enter the number of people to split the bill: 5\n"
          ]
        }
      ]
    },
    {
      "cell_type": "code",
      "source": [
        "#tip = (int(input_bill)*(100+int(input_percentage))/100)/int(input_people)"
      ],
      "metadata": {
        "id": "LTER-OH_pNPi"
      },
      "execution_count": 12,
      "outputs": []
    },
    {
      "cell_type": "code",
      "source": [
        "tip_as_percent = (input_tip) / 100\n",
        "bill_with_tip = (input_bill) * (1 + tip_as_percent)\n",
        "bill_per_person = bill_with_tip / (input_people)\n",
        "final_amount = round(bill_per_person, 2)"
      ],
      "metadata": {
        "id": "59AMmqq4rYCK"
      },
      "execution_count": 13,
      "outputs": []
    },
    {
      "cell_type": "code",
      "source": [
        "print(f\"Each person should pay $ {final_amount} \")"
      ],
      "metadata": {
        "colab": {
          "base_uri": "https://localhost:8080/"
        },
        "id": "xS9SU0NJpvPy",
        "outputId": "24b0d4c0-f431-4167-c51f-3152c98fce1d"
      },
      "execution_count": 14,
      "outputs": [
        {
          "output_type": "stream",
          "name": "stdout",
          "text": [
            "Each person should pay $ 22.0 \n"
          ]
        }
      ]
    },
    {
      "cell_type": "code",
      "source": [],
      "metadata": {
        "id": "h6RtBBMGp9E7"
      },
      "execution_count": 14,
      "outputs": []
    }
  ]
}