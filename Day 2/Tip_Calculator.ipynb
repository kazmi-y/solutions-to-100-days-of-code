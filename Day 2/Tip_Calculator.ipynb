{
  "nbformat": 4,
  "nbformat_minor": 0,
  "metadata": {
    "colab": {
      "provenance": [],
      "authorship_tag": "ABX9TyNOWczgOJBBH+4x/DD5drXb",
      "include_colab_link": true
    },
    "kernelspec": {
      "name": "python3",
      "display_name": "Python 3"
    },
    "language_info": {
      "name": "python"
    }
  },
  "cells": [
    {
      "cell_type": "markdown",
      "metadata": {
        "id": "view-in-github",
        "colab_type": "text"
      },
      "source": [
        "<a href=\"https://colab.research.google.com/github/kazmi-y/solutions-to-100-days-of-code/blob/main/Day%202/Tip_Calculator.ipynb\" target=\"_parent\"><img src=\"https://colab.research.google.com/assets/colab-badge.svg\" alt=\"Open In Colab\"/></a>"
      ]
    },
    {
      "cell_type": "code",
      "execution_count": 22,
      "metadata": {
        "id": "g-BpB80AoEKd"
      },
      "outputs": [],
      "source": [
        "bill = \"What was the total amount of bill?\""
      ]
    },
    {
      "cell_type": "code",
      "source": [
        "percentage = \"What percentage of bill would you like to pay as tip: 5, 10, 15 or 20%?\""
      ],
      "metadata": {
        "id": "hl8EiXDVoYjV"
      },
      "execution_count": 23,
      "outputs": []
    },
    {
      "cell_type": "code",
      "source": [
        "people = \"How many people to split the bill?\""
      ],
      "metadata": {
        "id": "pLGVdZakolxT"
      },
      "execution_count": 24,
      "outputs": []
    },
    {
      "cell_type": "code",
      "source": [
        "Intro = \"welcome to the Tip Calculator\""
      ],
      "metadata": {
        "id": "YdhKfpT7oqGI"
      },
      "execution_count": 25,
      "outputs": []
    },
    {
      "cell_type": "code",
      "source": [
        "print(Intro)"
      ],
      "metadata": {
        "colab": {
          "base_uri": "https://localhost:8080/"
        },
        "id": "WVct-O7go2BS",
        "outputId": "ed9b389c-05d6-475a-d79c-481b386e2bd0"
      },
      "execution_count": 26,
      "outputs": [
        {
          "output_type": "stream",
          "name": "stdout",
          "text": [
            "welcome to the Tip Calculator\n"
          ]
        }
      ]
    },
    {
      "cell_type": "code",
      "source": [
        "print(bill)"
      ],
      "metadata": {
        "colab": {
          "base_uri": "https://localhost:8080/"
        },
        "id": "Yf4yOFU2o4aD",
        "outputId": "9596b70e-228c-46f9-8201-97cd4a34f2d6"
      },
      "execution_count": 27,
      "outputs": [
        {
          "output_type": "stream",
          "name": "stdout",
          "text": [
            "What was the total amount of bill?\n"
          ]
        }
      ]
    },
    {
      "cell_type": "code",
      "source": [
        "input_bill = input(\"Please enter the total amount of bill: \")"
      ],
      "metadata": {
        "colab": {
          "base_uri": "https://localhost:8080/"
        },
        "id": "aDG6OCI5o6x-",
        "outputId": "0140fc52-0b1c-4819-96a4-fceb52b583a2"
      },
      "execution_count": 28,
      "outputs": [
        {
          "name": "stdout",
          "output_type": "stream",
          "text": [
            "Please enter the total amount of bill: 100\n"
          ]
        }
      ]
    },
    {
      "cell_type": "code",
      "source": [
        "print(percentage)"
      ],
      "metadata": {
        "colab": {
          "base_uri": "https://localhost:8080/"
        },
        "id": "L5YLqaHVpCrC",
        "outputId": "e177eb5a-ff91-40d5-b001-329a5589acb6"
      },
      "execution_count": 29,
      "outputs": [
        {
          "output_type": "stream",
          "name": "stdout",
          "text": [
            "What percentage of bill would you like to pay as tip: 5, 10, 15 or 20%?\n"
          ]
        }
      ]
    },
    {
      "cell_type": "code",
      "source": [
        "input_percentage = input(\"Please enter the percentage of bill you would like to pay: \")"
      ],
      "metadata": {
        "colab": {
          "base_uri": "https://localhost:8080/"
        },
        "id": "SU0DRRCqpGhy",
        "outputId": "ccc49444-ccd8-4038-fd3d-d8351c214bf7"
      },
      "execution_count": 30,
      "outputs": [
        {
          "name": "stdout",
          "output_type": "stream",
          "text": [
            "Please enter the percentage of bill you would like to pay: 10\n"
          ]
        }
      ]
    },
    {
      "cell_type": "code",
      "source": [
        "print(people)"
      ],
      "metadata": {
        "colab": {
          "base_uri": "https://localhost:8080/"
        },
        "id": "eyQDxtPDpJGC",
        "outputId": "267d88c3-7ebe-4a29-a1fe-4163f6ffc438"
      },
      "execution_count": 31,
      "outputs": [
        {
          "output_type": "stream",
          "name": "stdout",
          "text": [
            "How many people to split the bill?\n"
          ]
        }
      ]
    },
    {
      "cell_type": "code",
      "source": [
        "input_people = input(\"Please enter the number of people to split the bill: \")"
      ],
      "metadata": {
        "colab": {
          "base_uri": "https://localhost:8080/"
        },
        "id": "axx5nEg4pL0b",
        "outputId": "bd2e4960-6602-4208-b6df-a828396ae8e9"
      },
      "execution_count": 32,
      "outputs": [
        {
          "name": "stdout",
          "output_type": "stream",
          "text": [
            "Please enter the number of people to split the bill: 5\n"
          ]
        }
      ]
    },
    {
      "cell_type": "code",
      "source": [
        "tip = (int(input_bill)*(100+int(input_percentage))/100)/int(input_people)"
      ],
      "metadata": {
        "id": "LTER-OH_pNPi"
      },
      "execution_count": 33,
      "outputs": []
    },
    {
      "cell_type": "code",
      "source": [
        "print(f\"Each person should pay $ {tip} \")"
      ],
      "metadata": {
        "colab": {
          "base_uri": "https://localhost:8080/"
        },
        "id": "xS9SU0NJpvPy",
        "outputId": "5dd2c610-a701-48f5-bf08-faa52d74012f"
      },
      "execution_count": 34,
      "outputs": [
        {
          "output_type": "stream",
          "name": "stdout",
          "text": [
            "Each person should pay $ 22.0 \n"
          ]
        }
      ]
    },
    {
      "cell_type": "code",
      "source": [],
      "metadata": {
        "id": "h6RtBBMGp9E7"
      },
      "execution_count": null,
      "outputs": []
    }
  ]
}