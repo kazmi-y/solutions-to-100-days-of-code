{
  "nbformat": 4,
  "nbformat_minor": 0,
  "metadata": {
    "colab": {
      "provenance": [],
      "authorship_tag": "ABX9TyMgTJMvs47UcYe3VJ/zDR6E",
      "include_colab_link": true
    },
    "kernelspec": {
      "name": "python3",
      "display_name": "Python 3"
    },
    "language_info": {
      "name": "python"
    }
  },
  "cells": [
    {
      "cell_type": "markdown",
      "metadata": {
        "id": "view-in-github",
        "colab_type": "text"
      },
      "source": [
        "<a href=\"https://colab.research.google.com/github/kazmi-y/solutions-to-100-days-of-code/blob/main/Day%202/Tip_Calculator.ipynb\" target=\"_parent\"><img src=\"https://colab.research.google.com/assets/colab-badge.svg\" alt=\"Open In Colab\"/></a>"
      ]
    },
    {
      "cell_type": "code",
      "execution_count": 36,
      "metadata": {
        "id": "g-BpB80AoEKd"
      },
      "outputs": [],
      "source": [
        "bill = \"What was the total amount of bill?\""
      ]
    },
    {
      "cell_type": "code",
      "source": [
        "tip = \"What percentage of bill would you like to pay as tip: 5, 10, 15 or 20%?\""
      ],
      "metadata": {
        "id": "hl8EiXDVoYjV"
      },
      "execution_count": 37,
      "outputs": []
    },
    {
      "cell_type": "code",
      "source": [
        "people = \"How many people to split the bill?\""
      ],
      "metadata": {
        "id": "pLGVdZakolxT"
      },
      "execution_count": 38,
      "outputs": []
    },
    {
      "cell_type": "code",
      "source": [
        "Intro = \"welcome to the Tip Calculator\""
      ],
      "metadata": {
        "id": "YdhKfpT7oqGI"
      },
      "execution_count": 39,
      "outputs": []
    },
    {
      "cell_type": "code",
      "source": [
        "print(Intro)"
      ],
      "metadata": {
        "colab": {
          "base_uri": "https://localhost:8080/"
        },
        "id": "WVct-O7go2BS",
        "outputId": "a9affac4-d3ea-4292-9f30-7cdc75c4fcab"
      },
      "execution_count": 40,
      "outputs": [
        {
          "output_type": "stream",
          "name": "stdout",
          "text": [
            "welcome to the Tip Calculator\n"
          ]
        }
      ]
    },
    {
      "cell_type": "code",
      "source": [
        "print(bill)"
      ],
      "metadata": {
        "colab": {
          "base_uri": "https://localhost:8080/"
        },
        "id": "Yf4yOFU2o4aD",
        "outputId": "3b74789e-bcfe-416d-973d-08d461f6c4c7"
      },
      "execution_count": 41,
      "outputs": [
        {
          "output_type": "stream",
          "name": "stdout",
          "text": [
            "What was the total amount of bill?\n"
          ]
        }
      ]
    },
    {
      "cell_type": "code",
      "source": [
        "input_bill = input(\"Please enter the total amount of bill: \")"
      ],
      "metadata": {
        "colab": {
          "base_uri": "https://localhost:8080/"
        },
        "id": "aDG6OCI5o6x-",
        "outputId": "d0b6cd6b-9365-4ff6-ace9-e28c12a774f5"
      },
      "execution_count": 42,
      "outputs": [
        {
          "name": "stdout",
          "output_type": "stream",
          "text": [
            "Please enter the total amount of bill: 100\n"
          ]
        }
      ]
    },
    {
      "cell_type": "code",
      "source": [
        "print(tip)"
      ],
      "metadata": {
        "colab": {
          "base_uri": "https://localhost:8080/"
        },
        "id": "L5YLqaHVpCrC",
        "outputId": "e6c86144-1934-4b52-f9a9-7c944ee506eb"
      },
      "execution_count": 43,
      "outputs": [
        {
          "output_type": "stream",
          "name": "stdout",
          "text": [
            "What percentage of bill would you like to pay as tip: 5, 10, 15 or 20%?\n"
          ]
        }
      ]
    },
    {
      "cell_type": "code",
      "source": [
        "input_tip = input(\"Please enter the percentage of bill you would like to pay: \")"
      ],
      "metadata": {
        "colab": {
          "base_uri": "https://localhost:8080/"
        },
        "id": "SU0DRRCqpGhy",
        "outputId": "39cdbe7e-7dce-4704-8232-1d079c1813b1"
      },
      "execution_count": 44,
      "outputs": [
        {
          "name": "stdout",
          "output_type": "stream",
          "text": [
            "Please enter the percentage of bill you would like to pay: 10\n"
          ]
        }
      ]
    },
    {
      "cell_type": "code",
      "source": [
        "print(people)"
      ],
      "metadata": {
        "colab": {
          "base_uri": "https://localhost:8080/"
        },
        "id": "eyQDxtPDpJGC",
        "outputId": "f7011331-2d00-4647-ac31-66700dedd35b"
      },
      "execution_count": 45,
      "outputs": [
        {
          "output_type": "stream",
          "name": "stdout",
          "text": [
            "How many people to split the bill?\n"
          ]
        }
      ]
    },
    {
      "cell_type": "code",
      "source": [
        "input_people = input(\"Please enter the number of people to split the bill: \")"
      ],
      "metadata": {
        "colab": {
          "base_uri": "https://localhost:8080/"
        },
        "id": "axx5nEg4pL0b",
        "outputId": "9ece3fe5-50e8-4833-fd45-cfd2a66cd202"
      },
      "execution_count": 46,
      "outputs": [
        {
          "name": "stdout",
          "output_type": "stream",
          "text": [
            "Please enter the number of people to split the bill: 5\n"
          ]
        }
      ]
    },
    {
      "cell_type": "code",
      "source": [
        "#tip = (int(input_bill)*(100+int(input_percentage))/100)/int(input_people)"
      ],
      "metadata": {
        "id": "LTER-OH_pNPi"
      },
      "execution_count": 47,
      "outputs": []
    },
    {
      "cell_type": "code",
      "source": [
        "tip_as_percent = float(input_tip) / 100\n",
        "bill_with_tip = float(input_bill) * (1 + tip_as_percent)\n",
        "bill_per_person = bill_with_tip / int(input_people)\n",
        "final_amount = round(bill_per_person, 2)"
      ],
      "metadata": {
        "id": "59AMmqq4rYCK"
      },
      "execution_count": 50,
      "outputs": []
    },
    {
      "cell_type": "code",
      "source": [
        "print(f\"Each person should pay $ {final_amount} \")"
      ],
      "metadata": {
        "colab": {
          "base_uri": "https://localhost:8080/"
        },
        "id": "xS9SU0NJpvPy",
        "outputId": "c9fe14aa-05ba-4a0a-d73f-e7d5ebc6c6bf"
      },
      "execution_count": 51,
      "outputs": [
        {
          "output_type": "stream",
          "name": "stdout",
          "text": [
            "Each person should pay $ 22.0 \n"
          ]
        }
      ]
    },
    {
      "cell_type": "code",
      "source": [],
      "metadata": {
        "id": "h6RtBBMGp9E7"
      },
      "execution_count": null,
      "outputs": []
    }
  ]
}