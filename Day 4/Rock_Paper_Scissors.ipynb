{
  "nbformat": 4,
  "nbformat_minor": 0,
  "metadata": {
    "colab": {
      "provenance": [],
      "authorship_tag": "ABX9TyOO9wYDZn1NxVAvJOUGP0pT",
      "include_colab_link": true
    },
    "kernelspec": {
      "name": "python3",
      "display_name": "Python 3"
    },
    "language_info": {
      "name": "python"
    }
  },
  "cells": [
    {
      "cell_type": "markdown",
      "metadata": {
        "id": "view-in-github",
        "colab_type": "text"
      },
      "source": [
        "<a href=\"https://colab.research.google.com/github/kazmi-y/solutions-to-100-days-of-code/blob/main/Day%204/Rock_Paper_Scissors.ipynb\" target=\"_parent\"><img src=\"https://colab.research.google.com/assets/colab-badge.svg\" alt=\"Open In Colab\"/></a>"
      ]
    },
    {
      "cell_type": "code",
      "execution_count": 18,
      "metadata": {
        "id": "AdFNSkhtZau2"
      },
      "outputs": [],
      "source": [
        "import numpy as np"
      ]
    },
    {
      "cell_type": "code",
      "source": [
        "data = {'rock': 0, 'paper':1, 'Sissors':2}"
      ],
      "metadata": {
        "id": "SjHSIK_CZ2qS"
      },
      "execution_count": 19,
      "outputs": []
    },
    {
      "cell_type": "code",
      "source": [
        "computer_input = np.random.randint(0,3)\n",
        "#print (computer_input)"
      ],
      "metadata": {
        "id": "KkR_gu6XaRWZ"
      },
      "execution_count": 26,
      "outputs": []
    },
    {
      "cell_type": "code",
      "source": [
        "user_input = int(input('Choose 0 for rock, 1 for paper and 2 for scissors: '))"
      ],
      "metadata": {
        "colab": {
          "base_uri": "https://localhost:8080/"
        },
        "id": "st4JlS8Mac98",
        "outputId": "8f004dc3-cde7-475c-b25e-709eae6a44ea"
      },
      "execution_count": 27,
      "outputs": [
        {
          "name": "stdout",
          "output_type": "stream",
          "text": [
            "Choose 0 for rock, 1 for paper and 2 for scissors: 2\n"
          ]
        }
      ]
    },
    {
      "cell_type": "code",
      "source": [
        "if user_input == computer_input:\n",
        "    print('Draw')\n",
        "elif (user_input == 0 and computer_input == 2) or \\\n",
        "     (user_input == 1 and computer_input == 0) or \\\n",
        "     (user_input == 2 and computer_input == 1):\n",
        "    print('You win')\n",
        "else:\n",
        "    print('You loose')"
      ],
      "metadata": {
        "colab": {
          "base_uri": "https://localhost:8080/"
        },
        "id": "oSxVLW2hasEd",
        "outputId": "380f7794-c655-42a6-f679-d5377db23a36"
      },
      "execution_count": 28,
      "outputs": [
        {
          "output_type": "stream",
          "name": "stdout",
          "text": [
            "You win\n"
          ]
        }
      ]
    },
    {
      "cell_type": "code",
      "source": [],
      "metadata": {
        "id": "e1Qq4goWbvwZ"
      },
      "execution_count": null,
      "outputs": []
    }
  ]
}