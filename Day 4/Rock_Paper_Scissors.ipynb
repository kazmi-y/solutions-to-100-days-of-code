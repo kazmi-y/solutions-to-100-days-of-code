{
  "nbformat": 4,
  "nbformat_minor": 0,
  "metadata": {
    "colab": {
      "provenance": [],
      "authorship_tag": "ABX9TyPa/JZ8E7lYKuhQiGjHiso8",
      "include_colab_link": true
    },
    "kernelspec": {
      "name": "python3",
      "display_name": "Python 3"
    },
    "language_info": {
      "name": "python"
    }
  },
  "cells": [
    {
      "cell_type": "markdown",
      "metadata": {
        "id": "view-in-github",
        "colab_type": "text"
      },
      "source": [
        "<a href=\"https://colab.research.google.com/github/kazmi-y/solutions-to-100-days-of-code/blob/main/Day%204/Rock_Paper_Scissors.ipynb\" target=\"_parent\"><img src=\"https://colab.research.google.com/assets/colab-badge.svg\" alt=\"Open In Colab\"/></a>"
      ]
    },
    {
      "cell_type": "code",
      "source": [
        "import random"
      ],
      "metadata": {
        "id": "_ena9Y-lgrIw"
      },
      "execution_count": 34,
      "outputs": []
    },
    {
      "cell_type": "code",
      "source": [
        "data = {'rock': 0, 'paper':1, 'scissors':2}"
      ],
      "metadata": {
        "id": "SjHSIK_CZ2qS"
      },
      "execution_count": 35,
      "outputs": []
    },
    {
      "cell_type": "code",
      "source": [
        "computer_input = random.randint(0,2)\n",
        "#print (computer_input)"
      ],
      "metadata": {
        "id": "KkR_gu6XaRWZ"
      },
      "execution_count": 39,
      "outputs": []
    },
    {
      "cell_type": "code",
      "source": [
        "user_input = int(input('Choose 0 for rock, 1 for paper and 2 for scissors: '))"
      ],
      "metadata": {
        "colab": {
          "base_uri": "https://localhost:8080/"
        },
        "id": "st4JlS8Mac98",
        "outputId": "4e2bb82c-ed38-408e-cd19-ad9eaa6729d7"
      },
      "execution_count": 42,
      "outputs": [
        {
          "name": "stdout",
          "output_type": "stream",
          "text": [
            "Choose 0 for rock, 1 for paper and 2 for scissors: 2\n"
          ]
        }
      ]
    },
    {
      "cell_type": "code",
      "source": [
        "if user_input == computer_input:\n",
        "    print('Draw')\n",
        "elif (user_input == 0 and computer_input == 2) or \\\n",
        "     (user_input == 1 and computer_input == 0) or \\\n",
        "     (user_input == 2 and computer_input == 1):\n",
        "    print('You win')\n",
        "else:\n",
        "    print('You lose')"
      ],
      "metadata": {
        "colab": {
          "base_uri": "https://localhost:8080/"
        },
        "id": "oSxVLW2hasEd",
        "outputId": "3caed652-ebe6-4769-bb95-677e708fd6fa"
      },
      "execution_count": 43,
      "outputs": [
        {
          "output_type": "stream",
          "name": "stdout",
          "text": [
            "Draw\n"
          ]
        }
      ]
    },
    {
      "cell_type": "code",
      "source": [],
      "metadata": {
        "id": "e1Qq4goWbvwZ"
      },
      "execution_count": 43,
      "outputs": []
    }
  ]
}