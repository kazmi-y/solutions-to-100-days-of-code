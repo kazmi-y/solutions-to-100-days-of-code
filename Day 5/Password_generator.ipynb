{
  "nbformat": 4,
  "nbformat_minor": 0,
  "metadata": {
    "colab": {
      "provenance": [],
      "authorship_tag": "ABX9TyMuB4kxcn02+pTqqdcoML3B",
      "include_colab_link": true
    },
    "kernelspec": {
      "name": "python3",
      "display_name": "Python 3"
    },
    "language_info": {
      "name": "python"
    }
  },
  "cells": [
    {
      "cell_type": "markdown",
      "metadata": {
        "id": "view-in-github",
        "colab_type": "text"
      },
      "source": [
        "<a href=\"https://colab.research.google.com/github/kazmi-y/solutions-to-100-days-of-code/blob/main/Day%205/Password_generator.ipynb\" target=\"_parent\"><img src=\"https://colab.research.google.com/assets/colab-badge.svg\" alt=\"Open In Colab\"/></a>"
      ]
    },
    {
      "cell_type": "code",
      "execution_count": 25,
      "metadata": {
        "id": "ulnkWwDwjDeB"
      },
      "outputs": [],
      "source": [
        "#Password Generator Project\n",
        "import random"
      ]
    },
    {
      "cell_type": "code",
      "source": [
        "letters = ['a', 'b', 'c', 'd', 'e', 'f', 'g', 'h', 'i', 'j', 'k', 'l', 'm', 'n', 'o', 'p', 'q', 'r', 's', 't', 'u', 'v', 'w', 'x', 'y', 'z', 'A', 'B', 'C', 'D', 'E', 'F', 'G', 'H', 'I', 'J', 'K', 'L', 'M', 'N', 'O', 'P', 'Q', 'R', 'S', 'T', 'U', 'V', 'W', 'X', 'Y', 'Z']\n",
        "numbers = ['0', '1', '2', '3', '4', '5', '6', '7', '8', '9']\n",
        "symbols = ['!', '#', '$', '%', '&', '(', ')', '*', '+']"
      ],
      "metadata": {
        "id": "nTAsn6q8jKX_"
      },
      "execution_count": 26,
      "outputs": []
    },
    {
      "cell_type": "code",
      "source": [
        "print(\"Welcome to the PyPassword Generator!\")\n",
        "nr_letters= int(input(\"How many letters would you like in your password?\\n\"))\n",
        "nr_symbols = int(input(f\"How many symbols would you like?\\n\"))\n",
        "nr_numbers = int(input(f\"How many numbers would you like?\\n\"))\n",
        "\n",
        "#Eazy Level - Order not randomised:\n",
        "#e.g. 4 letter, 2 symbol, 2 number = JduE&!91\n",
        "\n",
        "\n",
        "#Hard Level - Order of characters randomised:\n",
        "#e.g. 4 letter, 2 symbol, 2 number = g^2jk8&P"
      ],
      "metadata": {
        "colab": {
          "base_uri": "https://localhost:8080/"
        },
        "id": "rtGvd57vjMIP",
        "outputId": "e0bbc60e-075b-4c9a-eabf-f7b4b52a3717"
      },
      "execution_count": 27,
      "outputs": [
        {
          "name": "stdout",
          "output_type": "stream",
          "text": [
            "Welcome to the PyPassword Generator!\n",
            "How many letters would you like in your password?\n",
            "4\n",
            "How many symbols would you like?\n",
            "2\n",
            "How many numbers would you like?\n",
            "2\n"
          ]
        }
      ]
    },
    {
      "cell_type": "code",
      "source": [
        "password_easy = \"\""
      ],
      "metadata": {
        "id": "I3KrHqdGunca"
      },
      "execution_count": 28,
      "outputs": []
    },
    {
      "cell_type": "code",
      "source": [
        "for char in range(0, nr_letters):\n",
        "  password_easy += random.choice(letters)\n",
        "\n",
        "for char in range(0, nr_symbols):\n",
        "  password_easy += random.choice(symbols)\n",
        "\n",
        "for char in range(0, nr_numbers):\n",
        "  password_easy += random.choice(numbers)"
      ],
      "metadata": {
        "id": "aeRi3LNpjOZu"
      },
      "execution_count": 29,
      "outputs": []
    },
    {
      "cell_type": "code",
      "source": [
        "print(password_easy)"
      ],
      "metadata": {
        "colab": {
          "base_uri": "https://localhost:8080/"
        },
        "id": "sUMkV-eOjtSH",
        "outputId": "1c70840a-4e30-45a6-b2bd-7232f2d2fbd3"
      },
      "execution_count": 30,
      "outputs": [
        {
          "output_type": "stream",
          "name": "stdout",
          "text": [
            "PEHc+#92\n"
          ]
        }
      ]
    },
    {
      "cell_type": "code",
      "source": [
        "password_list =[]"
      ],
      "metadata": {
        "id": "8q2dNEAYzWkM"
      },
      "execution_count": 31,
      "outputs": []
    },
    {
      "cell_type": "code",
      "source": [
        "for char in range(0, nr_letters):\n",
        "  password_list.append(random.choice(letters))\n",
        "\n",
        "for char in range(0, nr_symbols):\n",
        "  password_list.append(random.choice(symbols))\n",
        "\n",
        "for char in range(0, nr_numbers):\n",
        "  password_list.append(random.choice(numbers))"
      ],
      "metadata": {
        "id": "eRIJy9tyw_8Z"
      },
      "execution_count": 32,
      "outputs": []
    },
    {
      "cell_type": "code",
      "source": [
        "type(password_list)"
      ],
      "metadata": {
        "colab": {
          "base_uri": "https://localhost:8080/"
        },
        "id": "uQ4D9TF8x-5I",
        "outputId": "75eec0a2-8914-4f79-a3e8-e23a59585ecd"
      },
      "execution_count": 33,
      "outputs": [
        {
          "output_type": "execute_result",
          "data": {
            "text/plain": [
              "list"
            ]
          },
          "metadata": {},
          "execution_count": 33
        }
      ]
    },
    {
      "cell_type": "code",
      "source": [
        "print(password_list)"
      ],
      "metadata": {
        "colab": {
          "base_uri": "https://localhost:8080/"
        },
        "id": "Uka_fngM1CMr",
        "outputId": "457bc789-bbdd-4ec9-be2d-bb3556ea50af"
      },
      "execution_count": 34,
      "outputs": [
        {
          "output_type": "stream",
          "name": "stdout",
          "text": [
            "['v', 'M', 'L', 'G', '(', '(', '2', '6']\n"
          ]
        }
      ]
    },
    {
      "cell_type": "code",
      "source": [
        "random.shuffle(password_list)"
      ],
      "metadata": {
        "id": "AQ4fsSFR3nlv"
      },
      "execution_count": 35,
      "outputs": []
    },
    {
      "cell_type": "code",
      "source": [
        "print(password_list)"
      ],
      "metadata": {
        "colab": {
          "base_uri": "https://localhost:8080/"
        },
        "id": "fIINueh63rm1",
        "outputId": "7db7ce62-a78e-41eb-b1d0-faddda1730f4"
      },
      "execution_count": 36,
      "outputs": [
        {
          "output_type": "stream",
          "name": "stdout",
          "text": [
            "['6', '2', '(', 'G', 'M', 'v', '(', 'L']\n"
          ]
        }
      ]
    },
    {
      "cell_type": "code",
      "source": [
        "password_hard = \"\""
      ],
      "metadata": {
        "id": "7j90ua5n3zzJ"
      },
      "execution_count": 37,
      "outputs": []
    },
    {
      "cell_type": "code",
      "source": [
        "for char in password_list:\n",
        "  password_hard += char"
      ],
      "metadata": {
        "id": "jK8LRTwX4Vvk"
      },
      "execution_count": 38,
      "outputs": []
    },
    {
      "cell_type": "code",
      "source": [
        "print(password_hard)"
      ],
      "metadata": {
        "colab": {
          "base_uri": "https://localhost:8080/"
        },
        "id": "n-FxoG2u4bo6",
        "outputId": "0bb318c6-9922-42a2-d37e-e431cbc57787"
      },
      "execution_count": 39,
      "outputs": [
        {
          "output_type": "stream",
          "name": "stdout",
          "text": [
            "62(GMv(L\n"
          ]
        }
      ]
    },
    {
      "cell_type": "code",
      "source": [],
      "metadata": {
        "id": "dtKVH0D24eQh"
      },
      "execution_count": null,
      "outputs": []
    }
  ]
}