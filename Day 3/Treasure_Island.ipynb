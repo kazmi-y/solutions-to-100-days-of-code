{
  "nbformat": 4,
  "nbformat_minor": 0,
  "metadata": {
    "colab": {
      "provenance": [],
      "authorship_tag": "ABX9TyPdDhVogAZsoKslfXgeahaP",
      "include_colab_link": true
    },
    "kernelspec": {
      "name": "python3",
      "display_name": "Python 3"
    },
    "language_info": {
      "name": "python"
    }
  },
  "cells": [
    {
      "cell_type": "markdown",
      "metadata": {
        "id": "view-in-github",
        "colab_type": "text"
      },
      "source": [
        "<a href=\"https://colab.research.google.com/github/kazmi-y/solutions-to-100-days-of-code/blob/main/Day%203/Treasure_Island.ipynb\" target=\"_parent\"><img src=\"https://colab.research.google.com/assets/colab-badge.svg\" alt=\"Open In Colab\"/></a>"
      ]
    },
    {
      "cell_type": "code",
      "execution_count": 6,
      "metadata": {
        "id": "f3wpYibkuovG"
      },
      "outputs": [],
      "source": [
        "logo = '/content/logo.py'"
      ]
    },
    {
      "cell_type": "code",
      "metadata": {
        "colab": {
          "base_uri": "https://localhost:8080/"
        },
        "id": "baf8b8fa",
        "outputId": "bd9c956a-a9cd-4b48-fd86-3063f4c3fd5c"
      },
      "source": [
        "with open(logo, 'r') as f:\n",
        "    file_content = f.read()\n",
        "    print(file_content)"
      ],
      "execution_count": 7,
      "outputs": [
        {
          "output_type": "stream",
          "name": "stdout",
          "text": [
            "print('''\n",
            "*******************************************************************************\n",
            "          |                   |                  |                     |\n",
            " _________|________________.=\"\"_;=.______________|_____________________|_______\n",
            "|                   |  ,-\"_,=\"\"     `\"=.|                  |\n",
            "|___________________|__\"=._o`\"-._        `\"=.______________|___________________\n",
            "          |                `\"=._o`\"=._      _`\"=._                     |\n",
            " _________|_____________________:=._o \"=._.\"_.-=\"'\"=.__________________|_______\n",
            "|                   |    __.--\" , ; `\"=._o.\" ,-\"\"\"-._ \".   |\n",
            "|___________________|_._\"  ,. .` ` `` ,  `\"-._\"-._   \". '__|___________________\n",
            "          |           |o`\"=._` , \"` `; .\". ,  \"-._\"-._; ;              |\n",
            " _________|___________| ;`-.o`\"=._; .\" ` '`.\"\\ ` . \"-._ /_______________|_______\n",
            "|                   | |o ;    `\"-.o`\"=._``  '` \" ,__.--o;   |\n",
            "|___________________|_| ;     (#) `-.o `\"=.`_.--\"_o.-; ;___|___________________\n",
            "____/______/______/___|o;._    \"      `\".o|o_.--\"    ;o;____/______/______/____\n",
            "/______/______/______/_\"=._o--._        ; | ;        ; ;/______/______/______/_\n",
            "____/______/______/______/__\"=._o--._   ;o|o;     _._;o;____/______/______/____\n",
            "/______/______/______/______/____\"=._o._; | ;_.--\"o.--\"_/______/______/______/_\n",
            "____/______/______/______/______/_____\"=.o|o_.--\"\"___/______/______/______/____\n",
            "/______/______/______/______/______/______/______/______/______/______/_____ /\n",
            "*******************************************************************************\n",
            "''')\n"
          ]
        }
      ]
    },
    {
      "cell_type": "code",
      "source": [
        "# This code snippet opens and reads the content of the file specified by the\n",
        "# logo variable. Here's a breakdown:\n",
        "\n",
        "# with open(logo, 'r') as f:: This is a Python context manager that opens the file located at the path stored in the logo variable.\n",
        "# open(logo, 'r'): This function attempts to open the file. The first argument is the file path (logo), and the second argument ('r') specifies the mode in which the file should be opened.\n",
        "# 'r' means read mode, so you can read the file's content but not modify it.\n",
        "# with ... as f:: This is the context manager. It ensures that the file is properly closed automatically even if errors occur. The opened file object is assigned to the variable f.\n",
        "# file_content = f.read(): This line reads the entire content of the opened file (f) and stores it as a single string in the file_content variable.\n",
        "# print(file_content): This line prints the content of the file_content variable to the console, displaying the ASCII art."
      ],
      "metadata": {
        "id": "cOqWiYEJxav1"
      },
      "execution_count": null,
      "outputs": []
    },
    {
      "cell_type": "code",
      "source": [
        "print(\"Welcome to the treseure Island \\nYour mission is to find the Treasure \")"
      ],
      "metadata": {
        "colab": {
          "base_uri": "https://localhost:8080/"
        },
        "id": "JeH87nIC10rS",
        "outputId": "f75f571b-ceb4-4c00-da0e-4b647e7cc4c9"
      },
      "execution_count": 11,
      "outputs": [
        {
          "output_type": "stream",
          "name": "stdout",
          "text": [
            "Welcome to the treseure Island \n",
            "Your mission is to find the Treasure \n"
          ]
        }
      ]
    },
    {
      "cell_type": "code",
      "source": [
        "print(\"You are at a cross. Where do you want to go?\\ntype 'left' or 'right'\")"
      ],
      "metadata": {
        "colab": {
          "base_uri": "https://localhost:8080/"
        },
        "id": "WC5HRdj-3gBp",
        "outputId": "2802641d-5a49-449c-f603-6081c715e4c7"
      },
      "execution_count": 12,
      "outputs": [
        {
          "output_type": "stream",
          "name": "stdout",
          "text": [
            "You are at a cross. Where do you want to go?\n",
            "type 'left' or 'right'\n"
          ]
        }
      ]
    },
    {
      "cell_type": "code",
      "source": [
        "input_1 = input(\"Choose left or right: \")"
      ],
      "metadata": {
        "colab": {
          "base_uri": "https://localhost:8080/"
        },
        "id": "ZdacSrvh4p4E",
        "outputId": "2da21998-6a14-41be-f33e-16c516ce9282"
      },
      "execution_count": 15,
      "outputs": [
        {
          "name": "stdout",
          "output_type": "stream",
          "text": [
            "Choose left or right: left\n"
          ]
        }
      ]
    },
    {
      "cell_type": "code",
      "source": [
        "if input_1 == \"left\":\n",
        "  input_2 = input(\"You've come to a lake. There is an island in the middle of the lake. Type 'wait' to wait for a boat. Type 'swim' to swim across. : \")\n",
        "else:\n",
        "  print(\"You fell into a hole. Game Over.\")"
      ],
      "metadata": {
        "colab": {
          "base_uri": "https://localhost:8080/"
        },
        "id": "r4b0Uy0C4yqh",
        "outputId": "227edf4a-b065-439b-828e-15155d7b970a"
      },
      "execution_count": 19,
      "outputs": [
        {
          "name": "stdout",
          "output_type": "stream",
          "text": [
            "You've come to a lake. There is an island in the middle of the lake. Type 'wait' to wait for a boat. Type 'swim' to swim across. : wait\n"
          ]
        }
      ]
    },
    {
      "cell_type": "code",
      "source": [
        "if input_2 == \"wait\":\n",
        "  input_3 = input(\"You arrive at the island. There is a house with 3 doors. One red, one yellow and one blue. Which colour do you choose? : \")\n",
        "else:\n",
        "  print(\"You got attacked by an angry trout. Game Over\")"
      ],
      "metadata": {
        "colab": {
          "base_uri": "https://localhost:8080/"
        },
        "id": "-qHb2Eoa6vzY",
        "outputId": "33a25e2f-1725-47a0-9953-1d213d9e5138"
      },
      "execution_count": 22,
      "outputs": [
        {
          "name": "stdout",
          "output_type": "stream",
          "text": [
            "You arrive at the island. There is a house with 3 doors. One red, one yellow and one blue. Which colour do you choose? : red\n"
          ]
        }
      ]
    },
    {
      "cell_type": "code",
      "source": [
        "if input_3 == \"yellow\":\n",
        "  print(\"You found the treasure! You Win!\")\n",
        "elif input_3 == \"red\":\n",
        "  print(\"It's a room full of fire. Game Over.\")\n",
        "elif input_3 == \"blue\":\n",
        "  print(\"You enter a room of beasts. Game Over.\")\n",
        "else:\n",
        "  print(\"Game over.\")"
      ],
      "metadata": {
        "colab": {
          "base_uri": "https://localhost:8080/"
        },
        "id": "9G4wfQja7wlo",
        "outputId": "4a9019be-7eff-4aec-808c-40e32a2c0f0d"
      },
      "execution_count": 23,
      "outputs": [
        {
          "output_type": "stream",
          "name": "stdout",
          "text": [
            "It's a room full of fire. Game Over.\n"
          ]
        }
      ]
    },
    {
      "cell_type": "code",
      "source": [],
      "metadata": {
        "id": "QMaEhQCe8bMp"
      },
      "execution_count": null,
      "outputs": []
    }
  ]
}