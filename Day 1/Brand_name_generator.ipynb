{
  "nbformat": 4,
  "nbformat_minor": 0,
  "metadata": {
    "colab": {
      "provenance": [],
      "authorship_tag": "ABX9TyMKjAGJvHVBEhdu9qYMg5E3",
      "include_colab_link": true
    },
    "kernelspec": {
      "name": "python3",
      "display_name": "Python 3"
    },
    "language_info": {
      "name": "python"
    }
  },
  "cells": [
    {
      "cell_type": "markdown",
      "metadata": {
        "id": "view-in-github",
        "colab_type": "text"
      },
      "source": [
        "<a href=\"https://colab.research.google.com/github/kazmi-y/solutions-to-100-days-of-code/blob/main/Day%201/Brand_name_generator.ipynb\" target=\"_parent\"><img src=\"https://colab.research.google.com/assets/colab-badge.svg\" alt=\"Open In Colab\"/></a>"
      ]
    },
    {
      "cell_type": "code",
      "execution_count": 1,
      "metadata": {
        "id": "tzvChCq4DlWk"
      },
      "outputs": [],
      "source": [
        "import pandas as pd"
      ]
    },
    {
      "cell_type": "code",
      "source": [
        "greeting = \"Welcome to the Brand Name Generator\""
      ],
      "metadata": {
        "id": "J-u52CftD38f"
      },
      "execution_count": 2,
      "outputs": []
    },
    {
      "cell_type": "code",
      "source": [
        "query1 = \"Which city did you grew up in?\""
      ],
      "metadata": {
        "id": "Yfq1DemWEUyt"
      },
      "execution_count": 3,
      "outputs": []
    },
    {
      "cell_type": "code",
      "source": [
        "query2 = \"What is the name of your pet?\""
      ],
      "metadata": {
        "id": "nefcEKPsEe1C"
      },
      "execution_count": 5,
      "outputs": []
    },
    {
      "cell_type": "code",
      "source": [
        "print(greeting)"
      ],
      "metadata": {
        "colab": {
          "base_uri": "https://localhost:8080/"
        },
        "id": "u1paUoWOEj6A",
        "outputId": "457d5b27-aceb-4b4c-a0a8-0c83d613591b"
      },
      "execution_count": 6,
      "outputs": [
        {
          "output_type": "stream",
          "name": "stdout",
          "text": [
            "Welcome to the Brand Name Generator\n"
          ]
        }
      ]
    },
    {
      "cell_type": "code",
      "source": [
        "print(query1)"
      ],
      "metadata": {
        "colab": {
          "base_uri": "https://localhost:8080/"
        },
        "id": "MSUwXDsoErfK",
        "outputId": "07b641ff-a316-4b8c-81cc-6f5b772168c7"
      },
      "execution_count": 7,
      "outputs": [
        {
          "output_type": "stream",
          "name": "stdout",
          "text": [
            "Which city did you grew up in?\n"
          ]
        }
      ]
    },
    {
      "cell_type": "code",
      "source": [
        "userinput = input(\"Enter City name: \")"
      ],
      "metadata": {
        "colab": {
          "base_uri": "https://localhost:8080/"
        },
        "id": "mfG-z3ZcEvxt",
        "outputId": "f22cfaa0-44ed-4db3-f4da-4d130bd88b93"
      },
      "execution_count": 8,
      "outputs": [
        {
          "name": "stdout",
          "output_type": "stream",
          "text": [
            "Enter City name: allahabad\n"
          ]
        }
      ]
    },
    {
      "cell_type": "code",
      "source": [
        "print(query2)"
      ],
      "metadata": {
        "colab": {
          "base_uri": "https://localhost:8080/"
        },
        "id": "kZ--uXVaE5Xr",
        "outputId": "727e2f51-eac8-487e-c970-5c8c7f3be532"
      },
      "execution_count": 9,
      "outputs": [
        {
          "output_type": "stream",
          "name": "stdout",
          "text": [
            "What is the name of your pet?\n"
          ]
        }
      ]
    },
    {
      "cell_type": "code",
      "source": [
        "userinput2 = input(\"Enter Pet name: \")"
      ],
      "metadata": {
        "colab": {
          "base_uri": "https://localhost:8080/"
        },
        "id": "RKIaXPsFE_NU",
        "outputId": "589a3629-e724-4614-a7dc-150b47de4136"
      },
      "execution_count": 10,
      "outputs": [
        {
          "name": "stdout",
          "output_type": "stream",
          "text": [
            "Enter Pet name: Brunzi chacha\n"
          ]
        }
      ]
    },
    {
      "cell_type": "code",
      "source": [
        "print(f\"Your band name is {userinput} {userinput2}\")"
      ],
      "metadata": {
        "colab": {
          "base_uri": "https://localhost:8080/"
        },
        "id": "3VkU-2GTFDtw",
        "outputId": "3094f01e-62a7-4125-cd24-9fcc1756bd4e"
      },
      "execution_count": 13,
      "outputs": [
        {
          "output_type": "stream",
          "name": "stdout",
          "text": [
            "Your band name is allahabad Brunzi chacha\n"
          ]
        }
      ]
    },
    {
      "cell_type": "code",
      "source": [],
      "metadata": {
        "id": "sqIzmp_9FuNV"
      },
      "execution_count": null,
      "outputs": []
    }
  ]
}