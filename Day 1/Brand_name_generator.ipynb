{
  "nbformat": 4,
  "nbformat_minor": 0,
  "metadata": {
    "colab": {
      "provenance": [],
      "authorship_tag": "ABX9TyMKjAGJvHVBEhdu9qYMg5E3",
      "include_colab_link": true
    },
    "kernelspec": {
      "name": "python3",
      "display_name": "Python 3"
    },
    "language_info": {
      "name": "python"
    }
  },
  "cells": [
    {
      "cell_type": "markdown",
      "metadata": {
        "id": "view-in-github",
        "colab_type": "text"
      },
      "source": [
        "<a href=\"https://colab.research.google.com/github/kazmi-y/solutions-to-100-days-of-code/blob/main/Day%201/Brand_name_generator.ipynb\" target=\"_parent\"><img src=\"https://colab.research.google.com/assets/colab-badge.svg\" alt=\"Open In Colab\"/></a>"
      ]
    },
    {
      "cell_type": "code",
      "execution_count": 1,
      "metadata": {
        "id": "tzvChCq4DlWk"
      },
      "outputs": [],
      "source": [
        "import pandas as pd"
      ]
    },
    {
      "cell_type": "code",
      "source": [
        "greeting = \"Welcome to the Brand Name Generator\""
      ],
      "metadata": {
        "id": "J-u52CftD38f"
      },
      "execution_count": 2,
      "outputs": []
    },
    {
      "cell_type": "code",
      "source": [
        "query1 = \"Which city did you grew up in?\""
      ],
      "metadata": {
        "id": "Yfq1DemWEUyt"
      },
      "execution_count": 3,
      "outputs": []
    },
    {
      "cell_type": "code",
      "source": [
        "query2 = \"What is the name of your pet?\""
      ],
      "metadata": {
        "id": "nefcEKPsEe1C"
      },
      "execution_count": 5,
      "outputs": []
    },
    {
      "cell_type": "code",
      "source": [
        "print(greeting)"
      ],
      "metadata": {
        "colab": {
          "base_uri": "https://localhost:8080/"
        },
        "id": "u1paUoWOEj6A",
        "outputId": "457d5b27-aceb-4b4c-a0a8-0c83d613591b"
      },
      "execution_count": 6,
      "outputs": [
        {
          "output_type": "stream",
          "name": "stdout",
          "text": [
            "Welcome to the Brand Name Generator\n"
          ]
        }
      ]
    },
    {
      "cell_type": "code",
      "source": [
        "print(query1)"
      ],
      "metadata": {
        "colab": {
          "base_uri": "https://localhost:8080/"
        },
        "id": "MSUwXDsoErfK",
        "outputId": "07b641ff-a316-4b8c-81cc-6f5b772168c7"
      },
      "execution_count": 7,
      "outputs": [
        {
          "output_type": "stream",
          "name": "stdout",
          "text": [
            "Which city did you grew up in?\n"
          ]
        }
      ]
    },
    {
      "cell_type": "code",
      "source": [
        "userinput = input(\"Enter City name: \")"
      ],
      "metadata": {
        "colab": {
          "base_uri": "https://localhost:8080/"
        },
        "id": "mfG-z3ZcEvxt",
        "outputId": "e31b6b1e-c03c-44b5-e5d8-e2aef7e75bd7"
      },
      "execution_count": 14,
      "outputs": [
        {
          "name": "stdout",
          "output_type": "stream",
          "text": [
            "Enter City name: London\n"
          ]
        }
      ]
    },
    {
      "cell_type": "code",
      "source": [
        "print(query2)"
      ],
      "metadata": {
        "colab": {
          "base_uri": "https://localhost:8080/"
        },
        "id": "kZ--uXVaE5Xr",
        "outputId": "c4177f72-6822-4465-da63-9603f17b328e"
      },
      "execution_count": 15,
      "outputs": [
        {
          "output_type": "stream",
          "name": "stdout",
          "text": [
            "What is the name of your pet?\n"
          ]
        }
      ]
    },
    {
      "cell_type": "code",
      "source": [
        "userinput2 = input(\"Enter Pet name: \")"
      ],
      "metadata": {
        "colab": {
          "base_uri": "https://localhost:8080/"
        },
        "id": "RKIaXPsFE_NU",
        "outputId": "4d640051-1e47-43cb-8afd-5f0fd61ddaa1"
      },
      "execution_count": 16,
      "outputs": [
        {
          "name": "stdout",
          "output_type": "stream",
          "text": [
            "Enter Pet name: Baby\n"
          ]
        }
      ]
    },
    {
      "cell_type": "code",
      "source": [
        "print(f\"Your band name is {userinput} {userinput2}\")"
      ],
      "metadata": {
        "colab": {
          "base_uri": "https://localhost:8080/"
        },
        "id": "3VkU-2GTFDtw",
        "outputId": "5c761bf5-824c-478d-ad71-23029fe25d00"
      },
      "execution_count": 17,
      "outputs": [
        {
          "output_type": "stream",
          "name": "stdout",
          "text": [
            "Your band name is London Baby\n"
          ]
        }
      ]
    },
    {
      "cell_type": "code",
      "source": [],
      "metadata": {
        "id": "sqIzmp_9FuNV"
      },
      "execution_count": null,
      "outputs": []
    }
  ]
}